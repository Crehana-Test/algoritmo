{
  "nbformat": 4,
  "nbformat_minor": 0,
  "metadata": {
    "colab": {
      "name": "algorithm_crehana.ipynb",
      "provenance": [],
      "collapsed_sections": []
    },
    "kernelspec": {
      "name": "python3",
      "display_name": "Python 3"
    },
    "language_info": {
      "name": "python"
    }
  },
  "cells": [
    {
      "cell_type": "markdown",
      "source": [
        "# Ejercicio de Algoritmo\n",
        "¡La nueva película de \"Vengadores\" acaba de ser lanzada! Hay mucha gente en la taquilla\n",
        "del cine en una fila enorme. Cada uno de ellos tiene un solo billete de 100, 50 o 25 dólares.\n",
        "Un boleto de \"Los Vengadores\" cuesta 25 dólares.\n",
        "Vania trabaja actualmente como empleada y ella quiere vender un boleto a cada persona en\n",
        "la fila.\n",
        "¿Podrá Vania vender un boleto a cada persona y dar cambio/vuelto si inicialmente no tiene\n",
        "dinero y vende los boletos estrictamente en el orden de la cola de personas?\n",
        "Regresa SI, si Vania puede vender un boleto a cada persona y dar cambio/vuelto con el\n",
        "dinero que tiene a la mano en ese momento. De lo contrario, devuelva NO.\n",
        "Ejemplo:\n",
        "tickets([25, 25, 50]) // => SI\n",
        "tickets([25, 100]) // => NO. Vania no tendra suficiente dinero para dar cambio/vuelto a los\n",
        "100 dolares\n",
        "tickets([25, 25, 50, 50, 100]) // => NO. Vania no tendra suficiente dinero para dar 75 dolares\n",
        "de cambio/vuelto (no puedes crear dos billetes de 25 a partir de un billete de 50)"
      ],
      "metadata": {
        "id": "tBf1T1YEjOFV"
      }
    },
    {
      "cell_type": "code",
      "source": [
        "import pdb; "
      ],
      "metadata": {
        "id": "fUuYYAMTdkzk"
      },
      "execution_count": 4,
      "outputs": []
    },
    {
      "cell_type": "code",
      "execution_count": 50,
      "metadata": {
        "id": "c7rB5BroI0Ja"
      },
      "outputs": [],
      "source": [
        "def tickets(billetesIn):\n",
        "  # pdb.set_trace();\n",
        "  b25 = 0; b50 = 0; b100 = 0; dineroSuficiente = False;\n",
        "  for i in billetesIn:\n",
        "      dineroSuficiente = False\n",
        "      if i == 100:\n",
        "        if b25 > 0 and b50 > 0:\n",
        "          b100 += 1;\n",
        "          b50 -= 1;\n",
        "          b25 -= 1;\n",
        "          dineroSuficiente = True;\n",
        "\n",
        "      elif i == 50:\n",
        "        if b25 > 0:\n",
        "          b50 +=1;\n",
        "          b25 -= 1;\n",
        "          dineroSuficiente = True;\n",
        "\n",
        "      elif i == 25:\n",
        "        b25 += 1;\n",
        "        dineroSuficiente = True;\n",
        "\n",
        "      if dineroSuficiente == False:\n",
        "        break;\n",
        "\n",
        "  if dineroSuficiente == True:\n",
        "    return \"SI\"\n",
        "  else:\n",
        "    return \"NO\""
      ]
    },
    {
      "cell_type": "code",
      "source": [
        "tickets([25, 25, 50])"
      ],
      "metadata": {
        "colab": {
          "base_uri": "https://localhost:8080/",
          "height": 35
        },
        "id": "-E-fERmoI6iI",
        "outputId": "aea27d5e-5449-4b4c-f035-7cd6a3434871"
      },
      "execution_count": 48,
      "outputs": [
        {
          "output_type": "execute_result",
          "data": {
            "application/vnd.google.colaboratory.intrinsic+json": {
              "type": "string"
            },
            "text/plain": [
              "'SI'"
            ]
          },
          "metadata": {},
          "execution_count": 48
        }
      ]
    },
    {
      "cell_type": "code",
      "source": [
        "tickets([25,100])"
      ],
      "metadata": {
        "colab": {
          "base_uri": "https://localhost:8080/",
          "height": 35
        },
        "id": "6bsWMN2NeuIi",
        "outputId": "fe36e144-c1d3-4477-b882-98ce177bfdc8"
      },
      "execution_count": 44,
      "outputs": [
        {
          "output_type": "execute_result",
          "data": {
            "application/vnd.google.colaboratory.intrinsic+json": {
              "type": "string"
            },
            "text/plain": [
              "'NO'"
            ]
          },
          "metadata": {},
          "execution_count": 44
        }
      ]
    },
    {
      "cell_type": "code",
      "source": [
        "tickets([25, 25, 50, 50, 100]) "
      ],
      "metadata": {
        "colab": {
          "base_uri": "https://localhost:8080/",
          "height": 35
        },
        "id": "Nbc6c1n1f7ob",
        "outputId": "babb3db8-9742-42fb-8346-a4b93098f7ab"
      },
      "execution_count": 49,
      "outputs": [
        {
          "output_type": "execute_result",
          "data": {
            "application/vnd.google.colaboratory.intrinsic+json": {
              "type": "string"
            },
            "text/plain": [
              "'NO'"
            ]
          },
          "metadata": {},
          "execution_count": 49
        }
      ]
    }
  ]
}